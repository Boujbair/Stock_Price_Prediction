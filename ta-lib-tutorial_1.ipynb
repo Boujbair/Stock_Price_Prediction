{
 "cells": [
  {
   "cell_type": "markdown",
   "metadata": {},
   "source": [
    "# TA-Lib Tutorial\n",
    "\n",
    "\"TA-Lib is widely used by trading software developers requiring to perform technical analysis of financial market data.\""
   ]
  },
  {
   "cell_type": "code",
   "execution_count": 5,
   "metadata": {
    "ExecuteTime": {
     "end_time": "2019-08-05T19:30:28.821735Z",
     "start_time": "2019-08-05T19:30:28.795344Z"
    }
   },
   "outputs": [
    {
     "data": {
      "application/javascript": [
       "IPython.OutputArea.prototype._should_scroll = function(lines) {\n",
       "    return false;\n",
       "}\n"
      ],
      "text/plain": [
       "<IPython.core.display.Javascript object>"
      ]
     },
     "metadata": {},
     "output_type": "display_data"
    }
   ],
   "source": [
    "%%javascript\n",
    "IPython.OutputArea.prototype._should_scroll = function(lines) {\n",
    "    return false;\n",
    "}"
   ]
  },
  {
   "cell_type": "code",
   "execution_count": 6,
   "metadata": {
    "ExecuteTime": {
     "end_time": "2019-08-05T19:30:29.630182Z",
     "start_time": "2019-08-05T19:30:28.824991Z"
    }
   },
   "outputs": [],
   "source": [
    "# imports\n",
    "import pandas as pd\n",
    "import pandas_datareader.data as pdr\n",
    "import datetime\n",
    "import talib\n",
    "from talib.abstract import *\n",
    "from talib import MA_Type\n",
    "\n",
    "# format price data\n",
    "pd.options.display.float_format = '{:0.2f}'.format"
   ]
  },
  {
   "cell_type": "markdown",
   "metadata": {},
   "source": [
    "Some global data"
   ]
  },
  {
   "cell_type": "code",
   "execution_count": 32,
   "metadata": {
    "ExecuteTime": {
     "end_time": "2019-08-05T19:30:29.659964Z",
     "start_time": "2019-08-05T19:30:29.651165Z"
    }
   },
   "outputs": [],
   "source": [
    "l = ['SPY', 'AAPL', 'PLUG', 'MSFT', 'PENN', 'EBAY', 'GFI', 'ATVI', 'AMAT', 'TSM', 'MRVL', 'SE', 'CRM', 'LLY', 'ABB', 'DHI', 'FAST', 'MAS', 'CDNS', 'TBIO', 'GIS', 'IMMU', 'HD', 'STM', 'NUAN', 'LAKE', 'DT', 'HOLX', 'DG', 'BLDP', 'ADBE', 'OSTK', 'AU', 'BMRN', 'KNX', 'BJ', 'ADI', 'ADSK', 'PAAS', 'AHPI', 'CLX', 'LRCX', 'DLR', 'MKC', 'TEAM', 'INSM', 'A', 'SWKS', 'CLGX', 'CCI', 'CTXS', 'CMC', 'LULU', 'CMI', 'LSCC', 'WGO', 'VRTX', 'PRTS', 'KLAC', 'FTNT', 'TREX', 'ENTG', 'TAL', 'MNTA', 'DXCM', 'HALO', 'NBIX', 'IIVI', 'AVEO', 'EBS', 'SGEN', 'AMKR', 'THO', 'TSCO', 'RMD', 'REGN', 'ALNY', 'QDEL', 'CHTR', 'OTEX', 'WERN', 'BKI', 'ADPT', 'BLK', 'SNPS', 'WSM', 'FORM', 'AMRC', 'ILMN', 'MCO', 'CGEN', 'MOH', 'NTES', 'ROK', 'PEGA', 'NVDA', 'NEM', 'LOW', 'GLUU', 'SAP']\n",
    "symbol = l[0]\n",
    "start = datetime.datetime(2018, 1, 1)\n",
    "end = datetime.datetime.now()"
   ]
  },
  {
   "cell_type": "markdown",
   "metadata": {},
   "source": [
    "Fetch timeseries"
   ]
  },
  {
   "cell_type": "code",
   "execution_count": 33,
   "metadata": {
    "ExecuteTime": {
     "end_time": "2019-08-05T19:30:29.705943Z",
     "start_time": "2019-08-05T19:30:29.664209Z"
    }
   },
   "outputs": [
    {
     "data": {
      "text/html": [
       "<div>\n",
       "<style scoped>\n",
       "    .dataframe tbody tr th:only-of-type {\n",
       "        vertical-align: middle;\n",
       "    }\n",
       "\n",
       "    .dataframe tbody tr th {\n",
       "        vertical-align: top;\n",
       "    }\n",
       "\n",
       "    .dataframe thead th {\n",
       "        text-align: right;\n",
       "    }\n",
       "</style>\n",
       "<table border=\"1\" class=\"dataframe\">\n",
       "  <thead>\n",
       "    <tr style=\"text-align: right;\">\n",
       "      <th></th>\n",
       "      <th>High</th>\n",
       "      <th>Low</th>\n",
       "      <th>Open</th>\n",
       "      <th>Close</th>\n",
       "      <th>Volume</th>\n",
       "      <th>Adj Close</th>\n",
       "    </tr>\n",
       "    <tr>\n",
       "      <th>Date</th>\n",
       "      <th></th>\n",
       "      <th></th>\n",
       "      <th></th>\n",
       "      <th></th>\n",
       "      <th></th>\n",
       "      <th></th>\n",
       "    </tr>\n",
       "  </thead>\n",
       "  <tbody>\n",
       "    <tr>\n",
       "      <th>2022-11-17</th>\n",
       "      <td>394.95</td>\n",
       "      <td>390.14</td>\n",
       "      <td>390.46</td>\n",
       "      <td>394.24</td>\n",
       "      <td>74496300.00</td>\n",
       "      <td>394.24</td>\n",
       "    </tr>\n",
       "    <tr>\n",
       "      <th>2022-11-18</th>\n",
       "      <td>397.81</td>\n",
       "      <td>393.04</td>\n",
       "      <td>397.74</td>\n",
       "      <td>396.03</td>\n",
       "      <td>92783500.00</td>\n",
       "      <td>396.03</td>\n",
       "    </tr>\n",
       "    <tr>\n",
       "      <th>2022-11-21</th>\n",
       "      <td>395.82</td>\n",
       "      <td>392.66</td>\n",
       "      <td>394.64</td>\n",
       "      <td>394.59</td>\n",
       "      <td>51243200.00</td>\n",
       "      <td>394.59</td>\n",
       "    </tr>\n",
       "    <tr>\n",
       "      <th>2022-11-22</th>\n",
       "      <td>400.07</td>\n",
       "      <td>395.15</td>\n",
       "      <td>396.63</td>\n",
       "      <td>399.90</td>\n",
       "      <td>60429000.00</td>\n",
       "      <td>399.90</td>\n",
       "    </tr>\n",
       "    <tr>\n",
       "      <th>2022-11-23</th>\n",
       "      <td>402.93</td>\n",
       "      <td>399.31</td>\n",
       "      <td>399.55</td>\n",
       "      <td>402.42</td>\n",
       "      <td>68161400.00</td>\n",
       "      <td>402.42</td>\n",
       "    </tr>\n",
       "  </tbody>\n",
       "</table>\n",
       "</div>"
      ],
      "text/plain": [
       "             High    Low   Open  Close      Volume  Adj Close\n",
       "Date                                                         \n",
       "2022-11-17 394.95 390.14 390.46 394.24 74496300.00     394.24\n",
       "2022-11-18 397.81 393.04 397.74 396.03 92783500.00     396.03\n",
       "2022-11-21 395.82 392.66 394.64 394.59 51243200.00     394.59\n",
       "2022-11-22 400.07 395.15 396.63 399.90 60429000.00     399.90\n",
       "2022-11-23 402.93 399.31 399.55 402.42 68161400.00     402.42"
      ]
     },
     "execution_count": 33,
     "metadata": {},
     "output_type": "execute_result"
    }
   ],
   "source": [
    "ts = pdr.DataReader(symbol, 'yahoo', start, end)\n",
    "ts.tail()"
   ]
  },
  {
   "cell_type": "code",
   "execution_count": 35,
   "metadata": {},
   "outputs": [],
   "source": [
    "def _adj_column_names(ts):\n",
    "    \"\"\"\n",
    "    ta-lib expects columns to be lower case; to be consistent,\n",
    "    change date index\n",
    "    \"\"\"\n",
    "    ts.columns = [col.lower().replace(' ','_') for col in ts.columns]\n",
    "    ts.index.names = ['date']\n",
    "    return ts\n",
    "\n",
    "ts = _adj_column_names(ts)\n"
   ]
  },
  {
   "cell_type": "markdown",
   "metadata": {},
   "source": [
    "Select timeseries between start and end."
   ]
  },
  {
   "cell_type": "markdown",
   "metadata": {},
   "source": [
    "### Get info about TA-Lib"
   ]
  },
  {
   "cell_type": "code",
   "execution_count": 10,
   "metadata": {
    "ExecuteTime": {
     "end_time": "2019-08-05T19:30:29.821753Z",
     "start_time": "2019-08-05T19:30:29.808117Z"
    }
   },
   "outputs": [
    {
     "name": "stdout",
     "output_type": "stream",
     "text": [
      "There are 158 TA-Lib functions!\n"
     ]
    }
   ],
   "source": [
    "print('There are {} TA-Lib functions!'.format(len(talib.get_functions())))"
   ]
  },
  {
   "cell_type": "markdown",
   "metadata": {},
   "source": [
    "Here is a complete listing of the functions by group:"
   ]
  },
  {
   "cell_type": "code",
   "execution_count": 11,
   "metadata": {
    "ExecuteTime": {
     "end_time": "2019-08-05T19:30:29.908193Z",
     "start_time": "2019-08-05T19:30:29.829161Z"
    }
   },
   "outputs": [
    {
     "name": "stdout",
     "output_type": "stream",
     "text": [
      "Cycle Indicators\n",
      "-----------------------------------------\n",
      "HT_DCPERIOD - Hilbert Transform - Dominant Cycle Period\n",
      "HT_DCPHASE - Hilbert Transform - Dominant Cycle Phase\n",
      "HT_PHASOR - Hilbert Transform - Phasor Components\n",
      "HT_SINE - Hilbert Transform - SineWave\n",
      "HT_TRENDMODE - Hilbert Transform - Trend vs Cycle Mode\n",
      "\n",
      "Math Operators\n",
      "-----------------------------------------\n",
      "ADD - Vector Arithmetic Add\n",
      "DIV - Vector Arithmetic Div\n",
      "MAX - Highest value over a specified period\n",
      "MAXINDEX - Index of highest value over a specified period\n",
      "MIN - Lowest value over a specified period\n",
      "MININDEX - Index of lowest value over a specified period\n",
      "MINMAX - Lowest and highest values over a specified period\n",
      "MINMAXINDEX - Indexes of lowest and highest values over a specified period\n",
      "MULT - Vector Arithmetic Mult\n",
      "SUB - Vector Arithmetic Substraction\n",
      "SUM - Summation\n",
      "\n",
      "Math Transform\n",
      "-----------------------------------------\n",
      "ACOS - Vector Trigonometric ACos\n",
      "ASIN - Vector Trigonometric ASin\n",
      "ATAN - Vector Trigonometric ATan\n",
      "CEIL - Vector Ceil\n",
      "COS - Vector Trigonometric Cos\n",
      "COSH - Vector Trigonometric Cosh\n",
      "EXP - Vector Arithmetic Exp\n",
      "FLOOR - Vector Floor\n",
      "LN - Vector Log Natural\n",
      "LOG10 - Vector Log10\n",
      "SIN - Vector Trigonometric Sin\n",
      "SINH - Vector Trigonometric Sinh\n",
      "SQRT - Vector Square Root\n",
      "TAN - Vector Trigonometric Tan\n",
      "TANH - Vector Trigonometric Tanh\n",
      "\n",
      "Momentum Indicators\n",
      "-----------------------------------------\n",
      "ADX - Average Directional Movement Index\n",
      "ADXR - Average Directional Movement Index Rating\n",
      "APO - Absolute Price Oscillator\n",
      "AROON - Aroon\n",
      "AROONOSC - Aroon Oscillator\n",
      "BOP - Balance Of Power\n",
      "CCI - Commodity Channel Index\n",
      "CMO - Chande Momentum Oscillator\n",
      "DX - Directional Movement Index\n",
      "MACD - Moving Average Convergence/Divergence\n",
      "MACDEXT - MACD with controllable MA type\n",
      "MACDFIX - Moving Average Convergence/Divergence Fix 12/26\n",
      "MFI - Money Flow Index\n",
      "MINUS_DI - Minus Directional Indicator\n",
      "MINUS_DM - Minus Directional Movement\n",
      "MOM - Momentum\n",
      "PLUS_DI - Plus Directional Indicator\n",
      "PLUS_DM - Plus Directional Movement\n",
      "PPO - Percentage Price Oscillator\n",
      "ROC - Rate of change : ((price/prevPrice)-1)*100\n",
      "ROCP - Rate of change Percentage: (price-prevPrice)/prevPrice\n",
      "ROCR - Rate of change ratio: (price/prevPrice)\n",
      "ROCR100 - Rate of change ratio 100 scale: (price/prevPrice)*100\n",
      "RSI - Relative Strength Index\n",
      "STOCH - Stochastic\n",
      "STOCHF - Stochastic Fast\n",
      "STOCHRSI - Stochastic Relative Strength Index\n",
      "TRIX - 1-day Rate-Of-Change (ROC) of a Triple Smooth EMA\n",
      "ULTOSC - Ultimate Oscillator\n",
      "WILLR - Williams' %R\n",
      "\n",
      "Overlap Studies\n",
      "-----------------------------------------\n",
      "BBANDS - Bollinger Bands\n",
      "DEMA - Double Exponential Moving Average\n",
      "EMA - Exponential Moving Average\n",
      "HT_TRENDLINE - Hilbert Transform - Instantaneous Trendline\n",
      "KAMA - Kaufman Adaptive Moving Average\n",
      "MA - Moving average\n",
      "MAMA - MESA Adaptive Moving Average\n",
      "MAVP - Moving average with variable period\n",
      "MIDPOINT - MidPoint over period\n",
      "MIDPRICE - Midpoint Price over period\n",
      "SAR - Parabolic SAR\n",
      "SAREXT - Parabolic SAR - Extended\n",
      "SMA - Simple Moving Average\n",
      "T3 - Triple Exponential Moving Average (T3)\n",
      "TEMA - Triple Exponential Moving Average\n",
      "TRIMA - Triangular Moving Average\n",
      "WMA - Weighted Moving Average\n",
      "\n",
      "Pattern Recognition\n",
      "-----------------------------------------\n",
      "CDL2CROWS - Two Crows\n",
      "CDL3BLACKCROWS - Three Black Crows\n",
      "CDL3INSIDE - Three Inside Up/Down\n",
      "CDL3LINESTRIKE - Three-Line Strike \n",
      "CDL3OUTSIDE - Three Outside Up/Down\n",
      "CDL3STARSINSOUTH - Three Stars In The South\n",
      "CDL3WHITESOLDIERS - Three Advancing White Soldiers\n",
      "CDLABANDONEDBABY - Abandoned Baby\n",
      "CDLADVANCEBLOCK - Advance Block\n",
      "CDLBELTHOLD - Belt-hold\n",
      "CDLBREAKAWAY - Breakaway\n",
      "CDLCLOSINGMARUBOZU - Closing Marubozu\n",
      "CDLCONCEALBABYSWALL - Concealing Baby Swallow\n",
      "CDLCOUNTERATTACK - Counterattack\n",
      "CDLDARKCLOUDCOVER - Dark Cloud Cover\n",
      "CDLDOJI - Doji\n",
      "CDLDOJISTAR - Doji Star\n",
      "CDLDRAGONFLYDOJI - Dragonfly Doji\n",
      "CDLENGULFING - Engulfing Pattern\n",
      "CDLEVENINGDOJISTAR - Evening Doji Star\n",
      "CDLEVENINGSTAR - Evening Star\n",
      "CDLGAPSIDESIDEWHITE - Up/Down-gap side-by-side white lines\n",
      "CDLGRAVESTONEDOJI - Gravestone Doji\n",
      "CDLHAMMER - Hammer\n",
      "CDLHANGINGMAN - Hanging Man\n",
      "CDLHARAMI - Harami Pattern\n",
      "CDLHARAMICROSS - Harami Cross Pattern\n",
      "CDLHIGHWAVE - High-Wave Candle\n",
      "CDLHIKKAKE - Hikkake Pattern\n",
      "CDLHIKKAKEMOD - Modified Hikkake Pattern\n",
      "CDLHOMINGPIGEON - Homing Pigeon\n",
      "CDLIDENTICAL3CROWS - Identical Three Crows\n",
      "CDLINNECK - In-Neck Pattern\n",
      "CDLINVERTEDHAMMER - Inverted Hammer\n",
      "CDLKICKING - Kicking\n",
      "CDLKICKINGBYLENGTH - Kicking - bull/bear determined by the longer marubozu\n",
      "CDLLADDERBOTTOM - Ladder Bottom\n",
      "CDLLONGLEGGEDDOJI - Long Legged Doji\n",
      "CDLLONGLINE - Long Line Candle\n",
      "CDLMARUBOZU - Marubozu\n",
      "CDLMATCHINGLOW - Matching Low\n",
      "CDLMATHOLD - Mat Hold\n",
      "CDLMORNINGDOJISTAR - Morning Doji Star\n",
      "CDLMORNINGSTAR - Morning Star\n",
      "CDLONNECK - On-Neck Pattern\n",
      "CDLPIERCING - Piercing Pattern\n",
      "CDLRICKSHAWMAN - Rickshaw Man\n",
      "CDLRISEFALL3METHODS - Rising/Falling Three Methods\n",
      "CDLSEPARATINGLINES - Separating Lines\n",
      "CDLSHOOTINGSTAR - Shooting Star\n",
      "CDLSHORTLINE - Short Line Candle\n",
      "CDLSPINNINGTOP - Spinning Top\n",
      "CDLSTALLEDPATTERN - Stalled Pattern\n",
      "CDLSTICKSANDWICH - Stick Sandwich\n",
      "CDLTAKURI - Takuri (Dragonfly Doji with very long lower shadow)\n",
      "CDLTASUKIGAP - Tasuki Gap\n",
      "CDLTHRUSTING - Thrusting Pattern\n",
      "CDLTRISTAR - Tristar Pattern\n",
      "CDLUNIQUE3RIVER - Unique 3 River\n",
      "CDLUPSIDEGAP2CROWS - Upside Gap Two Crows\n",
      "CDLXSIDEGAP3METHODS - Upside/Downside Gap Three Methods\n",
      "\n",
      "Price Transform\n",
      "-----------------------------------------\n",
      "AVGPRICE - Average Price\n",
      "MEDPRICE - Median Price\n",
      "TYPPRICE - Typical Price\n",
      "WCLPRICE - Weighted Close Price\n",
      "\n",
      "Statistic Functions\n",
      "-----------------------------------------\n",
      "BETA - Beta\n",
      "CORREL - Pearson's Correlation Coefficient (r)\n",
      "LINEARREG - Linear Regression\n",
      "LINEARREG_ANGLE - Linear Regression Angle\n",
      "LINEARREG_INTERCEPT - Linear Regression Intercept\n",
      "LINEARREG_SLOPE - Linear Regression Slope\n",
      "STDDEV - Standard Deviation\n",
      "TSF - Time Series Forecast\n",
      "VAR - Variance\n",
      "\n",
      "Volatility Indicators\n",
      "-----------------------------------------\n",
      "ATR - Average True Range\n",
      "NATR - Normalized Average True Range\n",
      "TRANGE - True Range\n",
      "\n",
      "Volume Indicators\n",
      "-----------------------------------------\n",
      "AD - Chaikin A/D Line\n",
      "ADOSC - Chaikin A/D Oscillator\n",
      "OBV - On Balance Volume\n",
      "\n"
     ]
    }
   ],
   "source": [
    "for group, funcs in talib.get_function_groups().items():\n",
    "    print(group)\n",
    "    print('-----------------------------------------')\n",
    "    for func in funcs:\n",
    "        f = Function(func)\n",
    "        print('{} - {}'.format(func, f.info['display_name']))\n",
    "    print()"
   ]
  },
  {
   "cell_type": "markdown",
   "metadata": {},
   "source": [
    "### Get info about a specific TA-Lib function\n",
    "\n",
    "There are 2 different API that are available with talib, namely Function API and Abstract API.  For the Function API, you pass in a price series.  For the Abstract API, you pass in a collection of named inputs: 'open', 'high', 'low', 'close', and 'volume'.  One or more of these may be used as defaults, but can be changed with the 'price' parameter.  "
   ]
  },
  {
   "cell_type": "markdown",
   "metadata": {},
   "source": [
    "Print the function instance to get documentation.  We see that SMA has the parameter 'timeperiod' with default '30'.  The input_arrays can be a dataframe with columns named 'open', 'high', 'low', 'close', and 'volume'."
   ]
  },
  {
   "cell_type": "code",
   "execution_count": 12,
   "metadata": {
    "ExecuteTime": {
     "end_time": "2019-08-05T19:30:29.926242Z",
     "start_time": "2019-08-05T19:30:29.915115Z"
    }
   },
   "outputs": [
    {
     "name": "stdout",
     "output_type": "stream",
     "text": [
      "SMA([input_arrays], [timeperiod=30])\n",
      "\n",
      "Simple Moving Average (Overlap Studies)\n",
      "\n",
      "Inputs:\n",
      "    price: (any ndarray)\n",
      "Parameters:\n",
      "    timeperiod: 30\n",
      "Outputs:\n",
      "    real\n"
     ]
    }
   ],
   "source": [
    "print(SMA)"
   ]
  },
  {
   "cell_type": "markdown",
   "metadata": {},
   "source": [
    "More information is available through the 'info' property.  We observe here that the default price used is 'close'.  This can be changed by setting 'price' in the function call, e.g. price='open'."
   ]
  },
  {
   "cell_type": "code",
   "execution_count": 13,
   "metadata": {
    "ExecuteTime": {
     "end_time": "2019-08-05T19:30:29.942732Z",
     "start_time": "2019-08-05T19:30:29.933342Z"
    }
   },
   "outputs": [
    {
     "name": "stdout",
     "output_type": "stream",
     "text": [
      "{'name': 'SMA', 'group': 'Overlap Studies', 'display_name': 'Simple Moving Average', 'function_flags': ['Output scale same as input'], 'input_names': OrderedDict([('price', 'close')]), 'parameters': OrderedDict([('timeperiod', 30)]), 'output_flags': OrderedDict([('real', ['Line'])]), 'output_names': ['real']}\n"
     ]
    }
   ],
   "source": [
    "print(SMA.info)"
   ]
  },
  {
   "cell_type": "markdown",
   "metadata": {},
   "source": [
    "If we just want to see the inputs, we can print the input_names property."
   ]
  },
  {
   "cell_type": "code",
   "execution_count": 14,
   "metadata": {
    "ExecuteTime": {
     "end_time": "2019-08-05T19:30:29.956735Z",
     "start_time": "2019-08-05T19:30:29.944284Z"
    }
   },
   "outputs": [
    {
     "name": "stdout",
     "output_type": "stream",
     "text": [
      "OrderedDict([('price', 'close')])\n"
     ]
    }
   ],
   "source": [
    "print(SMA.input_names)"
   ]
  },
  {
   "cell_type": "markdown",
   "metadata": {},
   "source": [
    "If we just want to see the parameters, we can print the paramters property."
   ]
  },
  {
   "cell_type": "code",
   "execution_count": 15,
   "metadata": {
    "ExecuteTime": {
     "end_time": "2019-08-05T19:30:29.969773Z",
     "start_time": "2019-08-05T19:30:29.962396Z"
    }
   },
   "outputs": [
    {
     "name": "stdout",
     "output_type": "stream",
     "text": [
      "OrderedDict([('timeperiod', 30)])\n"
     ]
    }
   ],
   "source": [
    "print(SMA.parameters)"
   ]
  },
  {
   "cell_type": "markdown",
   "metadata": {},
   "source": [
    "If we just want to see the outputs, we can print the output_names property."
   ]
  },
  {
   "cell_type": "code",
   "execution_count": 16,
   "metadata": {
    "ExecuteTime": {
     "end_time": "2019-08-05T19:30:29.985793Z",
     "start_time": "2019-08-05T19:30:29.976328Z"
    }
   },
   "outputs": [
    {
     "name": "stdout",
     "output_type": "stream",
     "text": [
      "['real']\n"
     ]
    }
   ],
   "source": [
    "print(SMA.output_names)"
   ]
  },
  {
   "cell_type": "markdown",
   "metadata": {},
   "source": [
    "### Create a technical indicator using talib"
   ]
  },
  {
   "cell_type": "markdown",
   "metadata": {},
   "source": [
    "Create technical indicator: SMA (using defaults: timeperiod=30, price='close')"
   ]
  },
  {
   "cell_type": "code",
   "execution_count": 17,
   "metadata": {
    "ExecuteTime": {
     "end_time": "2019-08-05T19:30:30.028803Z",
     "start_time": "2019-08-05T19:30:29.987560Z"
    }
   },
   "outputs": [
    {
     "data": {
      "text/plain": [
       "date\n",
       "2022-11-17   377.57\n",
       "2022-11-18   378.68\n",
       "2022-11-21   379.83\n",
       "2022-11-22   381.24\n",
       "2022-11-23   382.77\n",
       "dtype: float64"
      ]
     },
     "execution_count": 17,
     "metadata": {},
     "output_type": "execute_result"
    }
   ],
   "source": [
    "sma = SMA(ts)\n",
    "sma.tail()"
   ]
  },
  {
   "cell_type": "markdown",
   "metadata": {
    "ExecuteTime": {
     "end_time": "2019-08-03T02:08:05.217321Z",
     "start_time": "2019-08-03T02:08:05.206897Z"
    }
   },
   "source": [
    "Create technical indicator: SMA (using: timeperiod=200, price='close')"
   ]
  },
  {
   "cell_type": "code",
   "execution_count": 18,
   "metadata": {
    "ExecuteTime": {
     "end_time": "2019-08-05T19:30:30.057782Z",
     "start_time": "2019-08-05T19:30:30.037271Z"
    }
   },
   "outputs": [
    {
     "data": {
      "text/plain": [
       "date\n",
       "2022-11-17   406.06\n",
       "2022-11-18   405.81\n",
       "2022-11-21   405.54\n",
       "2022-11-22   405.30\n",
       "2022-11-23   405.06\n",
       "dtype: float64"
      ]
     },
     "execution_count": 18,
     "metadata": {},
     "output_type": "execute_result"
    }
   ],
   "source": [
    "sma200 = SMA(ts, timeperiod=200)\n",
    "sma200.tail()"
   ]
  },
  {
   "cell_type": "markdown",
   "metadata": {},
   "source": [
    "Create technical indicator: SMA (using: timeperiod=200, price='open')"
   ]
  },
  {
   "cell_type": "code",
   "execution_count": 19,
   "metadata": {
    "ExecuteTime": {
     "end_time": "2019-08-05T19:30:30.080778Z",
     "start_time": "2019-08-05T19:30:30.061232Z"
    }
   },
   "outputs": [
    {
     "data": {
      "text/plain": [
       "date\n",
       "2022-11-17   406.09\n",
       "2022-11-18   405.83\n",
       "2022-11-21   405.57\n",
       "2022-11-22   405.30\n",
       "2022-11-23   405.07\n",
       "dtype: float64"
      ]
     },
     "execution_count": 19,
     "metadata": {},
     "output_type": "execute_result"
    }
   ],
   "source": [
    "sma200 = SMA(ts, timeperiod=200, price='open')\n",
    "sma200.tail()"
   ]
  },
  {
   "cell_type": "markdown",
   "metadata": {},
   "source": [
    "### Add a technical indicator to a timeseries"
   ]
  },
  {
   "cell_type": "code",
   "execution_count": 20,
   "metadata": {
    "ExecuteTime": {
     "end_time": "2019-08-05T19:30:30.211793Z",
     "start_time": "2019-08-05T19:30:30.084255Z"
    },
    "scrolled": true
   },
   "outputs": [
    {
     "data": {
      "text/html": [
       "<div>\n",
       "<style scoped>\n",
       "    .dataframe tbody tr th:only-of-type {\n",
       "        vertical-align: middle;\n",
       "    }\n",
       "\n",
       "    .dataframe tbody tr th {\n",
       "        vertical-align: top;\n",
       "    }\n",
       "\n",
       "    .dataframe thead th {\n",
       "        text-align: right;\n",
       "    }\n",
       "</style>\n",
       "<table border=\"1\" class=\"dataframe\">\n",
       "  <thead>\n",
       "    <tr style=\"text-align: right;\">\n",
       "      <th></th>\n",
       "      <th>high</th>\n",
       "      <th>low</th>\n",
       "      <th>open</th>\n",
       "      <th>close</th>\n",
       "      <th>volume</th>\n",
       "      <th>adj_close</th>\n",
       "      <th>sma200</th>\n",
       "    </tr>\n",
       "    <tr>\n",
       "      <th>date</th>\n",
       "      <th></th>\n",
       "      <th></th>\n",
       "      <th></th>\n",
       "      <th></th>\n",
       "      <th></th>\n",
       "      <th></th>\n",
       "      <th></th>\n",
       "    </tr>\n",
       "  </thead>\n",
       "  <tbody>\n",
       "    <tr>\n",
       "      <th>2022-11-17</th>\n",
       "      <td>394.95</td>\n",
       "      <td>390.14</td>\n",
       "      <td>390.46</td>\n",
       "      <td>394.24</td>\n",
       "      <td>74496300.00</td>\n",
       "      <td>394.24</td>\n",
       "      <td>406.09</td>\n",
       "    </tr>\n",
       "    <tr>\n",
       "      <th>2022-11-18</th>\n",
       "      <td>397.81</td>\n",
       "      <td>393.04</td>\n",
       "      <td>397.74</td>\n",
       "      <td>396.03</td>\n",
       "      <td>92783500.00</td>\n",
       "      <td>396.03</td>\n",
       "      <td>405.83</td>\n",
       "    </tr>\n",
       "    <tr>\n",
       "      <th>2022-11-21</th>\n",
       "      <td>395.82</td>\n",
       "      <td>392.66</td>\n",
       "      <td>394.64</td>\n",
       "      <td>394.59</td>\n",
       "      <td>51243200.00</td>\n",
       "      <td>394.59</td>\n",
       "      <td>405.57</td>\n",
       "    </tr>\n",
       "    <tr>\n",
       "      <th>2022-11-22</th>\n",
       "      <td>400.07</td>\n",
       "      <td>395.15</td>\n",
       "      <td>396.63</td>\n",
       "      <td>399.90</td>\n",
       "      <td>60429000.00</td>\n",
       "      <td>399.90</td>\n",
       "      <td>405.30</td>\n",
       "    </tr>\n",
       "    <tr>\n",
       "      <th>2022-11-23</th>\n",
       "      <td>402.93</td>\n",
       "      <td>399.31</td>\n",
       "      <td>399.55</td>\n",
       "      <td>402.42</td>\n",
       "      <td>68161400.00</td>\n",
       "      <td>402.42</td>\n",
       "      <td>405.07</td>\n",
       "    </tr>\n",
       "  </tbody>\n",
       "</table>\n",
       "</div>"
      ],
      "text/plain": [
       "             high    low   open  close      volume  adj_close  sma200\n",
       "date                                                                 \n",
       "2022-11-17 394.95 390.14 390.46 394.24 74496300.00     394.24  406.09\n",
       "2022-11-18 397.81 393.04 397.74 396.03 92783500.00     396.03  405.83\n",
       "2022-11-21 395.82 392.66 394.64 394.59 51243200.00     394.59  405.57\n",
       "2022-11-22 400.07 395.15 396.63 399.90 60429000.00     399.90  405.30\n",
       "2022-11-23 402.93 399.31 399.55 402.42 68161400.00     402.42  405.07"
      ]
     },
     "execution_count": 20,
     "metadata": {},
     "output_type": "execute_result"
    }
   ],
   "source": [
    "ts['sma200'] = sma200\n",
    "ts.tail()"
   ]
  },
  {
   "cell_type": "markdown",
   "metadata": {},
   "source": [
    "### Try another one"
   ]
  },
  {
   "cell_type": "markdown",
   "metadata": {},
   "source": [
    "Commodity Channel Index"
   ]
  },
  {
   "cell_type": "code",
   "execution_count": 21,
   "metadata": {
    "ExecuteTime": {
     "end_time": "2019-08-05T19:30:30.232222Z",
     "start_time": "2019-08-05T19:30:30.217899Z"
    }
   },
   "outputs": [
    {
     "name": "stdout",
     "output_type": "stream",
     "text": [
      "CCI([input_arrays], [timeperiod=14])\n",
      "\n",
      "Commodity Channel Index (Momentum Indicators)\n",
      "\n",
      "Inputs:\n",
      "    prices: ['high', 'low', 'close']\n",
      "Parameters:\n",
      "    timeperiod: 14\n",
      "Outputs:\n",
      "    real\n"
     ]
    }
   ],
   "source": [
    "print(CCI)"
   ]
  },
  {
   "cell_type": "code",
   "execution_count": 22,
   "metadata": {
    "ExecuteTime": {
     "end_time": "2019-08-05T19:30:30.250768Z",
     "start_time": "2019-08-05T19:30:30.237197Z"
    }
   },
   "outputs": [
    {
     "name": "stdout",
     "output_type": "stream",
     "text": [
      "OrderedDict([('prices', ['high', 'low', 'close'])])\n"
     ]
    }
   ],
   "source": [
    "print(CCI.input_names)"
   ]
  },
  {
   "cell_type": "code",
   "execution_count": 23,
   "metadata": {
    "ExecuteTime": {
     "end_time": "2019-08-05T19:30:30.265778Z",
     "start_time": "2019-08-05T19:30:30.252473Z"
    }
   },
   "outputs": [
    {
     "name": "stdout",
     "output_type": "stream",
     "text": [
      "OrderedDict([('timeperiod', 14)])\n"
     ]
    }
   ],
   "source": [
    "print(CCI.parameters)"
   ]
  },
  {
   "cell_type": "code",
   "execution_count": 24,
   "metadata": {
    "ExecuteTime": {
     "end_time": "2019-08-05T19:30:30.308829Z",
     "start_time": "2019-08-05T19:30:30.269579Z"
    }
   },
   "outputs": [
    {
     "data": {
      "text/html": [
       "<div>\n",
       "<style scoped>\n",
       "    .dataframe tbody tr th:only-of-type {\n",
       "        vertical-align: middle;\n",
       "    }\n",
       "\n",
       "    .dataframe tbody tr th {\n",
       "        vertical-align: top;\n",
       "    }\n",
       "\n",
       "    .dataframe thead th {\n",
       "        text-align: right;\n",
       "    }\n",
       "</style>\n",
       "<table border=\"1\" class=\"dataframe\">\n",
       "  <thead>\n",
       "    <tr style=\"text-align: right;\">\n",
       "      <th></th>\n",
       "      <th>high</th>\n",
       "      <th>low</th>\n",
       "      <th>open</th>\n",
       "      <th>close</th>\n",
       "      <th>volume</th>\n",
       "      <th>adj_close</th>\n",
       "      <th>sma200</th>\n",
       "      <th>cci</th>\n",
       "    </tr>\n",
       "    <tr>\n",
       "      <th>date</th>\n",
       "      <th></th>\n",
       "      <th></th>\n",
       "      <th></th>\n",
       "      <th></th>\n",
       "      <th></th>\n",
       "      <th></th>\n",
       "      <th></th>\n",
       "      <th></th>\n",
       "    </tr>\n",
       "  </thead>\n",
       "  <tbody>\n",
       "    <tr>\n",
       "      <th>2022-11-17</th>\n",
       "      <td>394.95</td>\n",
       "      <td>390.14</td>\n",
       "      <td>390.46</td>\n",
       "      <td>394.24</td>\n",
       "      <td>74496300.00</td>\n",
       "      <td>394.24</td>\n",
       "      <td>406.09</td>\n",
       "      <td>57.02</td>\n",
       "    </tr>\n",
       "    <tr>\n",
       "      <th>2022-11-18</th>\n",
       "      <td>397.81</td>\n",
       "      <td>393.04</td>\n",
       "      <td>397.74</td>\n",
       "      <td>396.03</td>\n",
       "      <td>92783500.00</td>\n",
       "      <td>396.03</td>\n",
       "      <td>405.83</td>\n",
       "      <td>67.28</td>\n",
       "    </tr>\n",
       "    <tr>\n",
       "      <th>2022-11-21</th>\n",
       "      <td>395.82</td>\n",
       "      <td>392.66</td>\n",
       "      <td>394.64</td>\n",
       "      <td>394.59</td>\n",
       "      <td>51243200.00</td>\n",
       "      <td>394.59</td>\n",
       "      <td>405.57</td>\n",
       "      <td>50.60</td>\n",
       "    </tr>\n",
       "    <tr>\n",
       "      <th>2022-11-22</th>\n",
       "      <td>400.07</td>\n",
       "      <td>395.15</td>\n",
       "      <td>396.63</td>\n",
       "      <td>399.90</td>\n",
       "      <td>60429000.00</td>\n",
       "      <td>399.90</td>\n",
       "      <td>405.30</td>\n",
       "      <td>71.92</td>\n",
       "    </tr>\n",
       "    <tr>\n",
       "      <th>2022-11-23</th>\n",
       "      <td>402.93</td>\n",
       "      <td>399.31</td>\n",
       "      <td>399.55</td>\n",
       "      <td>402.42</td>\n",
       "      <td>68161400.00</td>\n",
       "      <td>402.42</td>\n",
       "      <td>405.07</td>\n",
       "      <td>93.21</td>\n",
       "    </tr>\n",
       "  </tbody>\n",
       "</table>\n",
       "</div>"
      ],
      "text/plain": [
       "             high    low   open  close      volume  adj_close  sma200   cci\n",
       "date                                                                       \n",
       "2022-11-17 394.95 390.14 390.46 394.24 74496300.00     394.24  406.09 57.02\n",
       "2022-11-18 397.81 393.04 397.74 396.03 92783500.00     396.03  405.83 67.28\n",
       "2022-11-21 395.82 392.66 394.64 394.59 51243200.00     394.59  405.57 50.60\n",
       "2022-11-22 400.07 395.15 396.63 399.90 60429000.00     399.90  405.30 71.92\n",
       "2022-11-23 402.93 399.31 399.55 402.42 68161400.00     402.42  405.07 93.21"
      ]
     },
     "execution_count": 24,
     "metadata": {},
     "output_type": "execute_result"
    }
   ],
   "source": [
    "cci = CCI(ts)\n",
    "ts['cci'] = cci\n",
    "ts.tail()"
   ]
  },
  {
   "cell_type": "markdown",
   "metadata": {},
   "source": [
    "### Now for something a little more difficult"
   ]
  },
  {
   "cell_type": "markdown",
   "metadata": {},
   "source": [
    "Bollinger Bands"
   ]
  },
  {
   "cell_type": "code",
   "execution_count": 25,
   "metadata": {
    "ExecuteTime": {
     "end_time": "2019-08-05T19:30:30.329852Z",
     "start_time": "2019-08-05T19:30:30.317856Z"
    },
    "scrolled": true
   },
   "outputs": [
    {
     "name": "stdout",
     "output_type": "stream",
     "text": [
      "BBANDS([input_arrays], [timeperiod=5], [nbdevup=2], [nbdevdn=2], [matype=0])\n",
      "\n",
      "Bollinger Bands (Overlap Studies)\n",
      "\n",
      "Inputs:\n",
      "    price: (any ndarray)\n",
      "Parameters:\n",
      "    timeperiod: 5\n",
      "    nbdevup: 2\n",
      "    nbdevdn: 2\n",
      "    matype: 0 (Simple Moving Average)\n",
      "Outputs:\n",
      "    upperband\n",
      "    middleband\n",
      "    lowerband\n"
     ]
    }
   ],
   "source": [
    "print(BBANDS)"
   ]
  },
  {
   "cell_type": "code",
   "execution_count": 26,
   "metadata": {
    "ExecuteTime": {
     "end_time": "2019-08-05T19:30:30.341805Z",
     "start_time": "2019-08-05T19:30:30.333894Z"
    }
   },
   "outputs": [
    {
     "name": "stdout",
     "output_type": "stream",
     "text": [
      "OrderedDict([('price', 'close')])\n"
     ]
    }
   ],
   "source": [
    "print(BBANDS.input_names)"
   ]
  },
  {
   "cell_type": "code",
   "execution_count": 27,
   "metadata": {
    "ExecuteTime": {
     "end_time": "2019-08-05T19:30:30.358797Z",
     "start_time": "2019-08-05T19:30:30.346614Z"
    }
   },
   "outputs": [
    {
     "name": "stdout",
     "output_type": "stream",
     "text": [
      "OrderedDict([('timeperiod', 5), ('nbdevup', 2), ('nbdevdn', 2), ('matype', 0)])\n"
     ]
    }
   ],
   "source": [
    "print(BBANDS.parameters)"
   ]
  },
  {
   "cell_type": "markdown",
   "metadata": {},
   "source": [
    "Print the available moving average types"
   ]
  },
  {
   "cell_type": "code",
   "execution_count": 28,
   "metadata": {
    "ExecuteTime": {
     "end_time": "2019-08-05T19:30:30.379787Z",
     "start_time": "2019-08-05T19:30:30.361900Z"
    }
   },
   "outputs": [
    {
     "data": {
      "text/plain": [
       "['DEMA', 'EMA', 'KAMA', 'MAMA', 'SMA', 'T3', 'TEMA', 'TRIMA', 'WMA', '_lookup']"
      ]
     },
     "execution_count": 28,
     "metadata": {},
     "output_type": "execute_result"
    }
   ],
   "source": [
    "attributes = [attr for attr in dir(MA_Type) \n",
    "              if not attr.startswith('__')]\n",
    "attributes"
   ]
  },
  {
   "cell_type": "code",
   "execution_count": 29,
   "metadata": {
    "ExecuteTime": {
     "end_time": "2019-08-05T19:30:30.400119Z",
     "start_time": "2019-08-05T19:30:30.388099Z"
    }
   },
   "outputs": [
    {
     "data": {
      "text/plain": [
       "{'_lookup': {0: 'Simple Moving Average',\n",
       "  1: 'Exponential Moving Average',\n",
       "  2: 'Weighted Moving Average',\n",
       "  3: 'Double Exponential Moving Average',\n",
       "  4: 'Triple Exponential Moving Average',\n",
       "  5: 'Triangular Moving Average',\n",
       "  6: 'Kaufman Adaptive Moving Average',\n",
       "  7: 'MESA Adaptive Moving Average',\n",
       "  8: 'Triple Generalized Double Exponential Moving Average'}}"
      ]
     },
     "execution_count": 29,
     "metadata": {},
     "output_type": "execute_result"
    }
   ],
   "source": [
    "MA_Type.__dict__"
   ]
  },
  {
   "cell_type": "code",
   "execution_count": 30,
   "metadata": {
    "ExecuteTime": {
     "end_time": "2019-08-05T19:30:30.419634Z",
     "start_time": "2019-08-05T19:30:30.406126Z"
    }
   },
   "outputs": [
    {
     "name": "stdout",
     "output_type": "stream",
     "text": [
      "Double Exponential Moving Average\n"
     ]
    }
   ],
   "source": [
    "print(MA_Type[MA_Type.DEMA])"
   ]
  },
  {
   "cell_type": "markdown",
   "metadata": {},
   "source": [
    "Set timeperiod=20 and matype=MA_Type.EMA"
   ]
  },
  {
   "cell_type": "code",
   "execution_count": 31,
   "metadata": {
    "ExecuteTime": {
     "end_time": "2019-08-05T19:30:30.474797Z",
     "start_time": "2019-08-05T19:30:30.421348Z"
    }
   },
   "outputs": [
    {
     "data": {
      "text/html": [
       "<div>\n",
       "<style scoped>\n",
       "    .dataframe tbody tr th:only-of-type {\n",
       "        vertical-align: middle;\n",
       "    }\n",
       "\n",
       "    .dataframe tbody tr th {\n",
       "        vertical-align: top;\n",
       "    }\n",
       "\n",
       "    .dataframe thead th {\n",
       "        text-align: right;\n",
       "    }\n",
       "</style>\n",
       "<table border=\"1\" class=\"dataframe\">\n",
       "  <thead>\n",
       "    <tr style=\"text-align: right;\">\n",
       "      <th></th>\n",
       "      <th>high</th>\n",
       "      <th>low</th>\n",
       "      <th>open</th>\n",
       "      <th>close</th>\n",
       "      <th>volume</th>\n",
       "      <th>adj_close</th>\n",
       "      <th>sma200</th>\n",
       "      <th>cci</th>\n",
       "      <th>upper</th>\n",
       "      <th>middle</th>\n",
       "      <th>lower</th>\n",
       "    </tr>\n",
       "    <tr>\n",
       "      <th>date</th>\n",
       "      <th></th>\n",
       "      <th></th>\n",
       "      <th></th>\n",
       "      <th></th>\n",
       "      <th></th>\n",
       "      <th></th>\n",
       "      <th></th>\n",
       "      <th></th>\n",
       "      <th></th>\n",
       "      <th></th>\n",
       "      <th></th>\n",
       "    </tr>\n",
       "  </thead>\n",
       "  <tbody>\n",
       "    <tr>\n",
       "      <th>2022-11-17</th>\n",
       "      <td>394.95</td>\n",
       "      <td>390.14</td>\n",
       "      <td>390.46</td>\n",
       "      <td>394.24</td>\n",
       "      <td>74496300.00</td>\n",
       "      <td>394.24</td>\n",
       "      <td>406.09</td>\n",
       "      <td>57.02</td>\n",
       "      <td>402.70</td>\n",
       "      <td>385.47</td>\n",
       "      <td>368.25</td>\n",
       "    </tr>\n",
       "    <tr>\n",
       "      <th>2022-11-18</th>\n",
       "      <td>397.81</td>\n",
       "      <td>393.04</td>\n",
       "      <td>397.74</td>\n",
       "      <td>396.03</td>\n",
       "      <td>92783500.00</td>\n",
       "      <td>396.03</td>\n",
       "      <td>405.83</td>\n",
       "      <td>67.28</td>\n",
       "      <td>403.68</td>\n",
       "      <td>386.48</td>\n",
       "      <td>369.28</td>\n",
       "    </tr>\n",
       "    <tr>\n",
       "      <th>2022-11-21</th>\n",
       "      <td>395.82</td>\n",
       "      <td>392.66</td>\n",
       "      <td>394.64</td>\n",
       "      <td>394.59</td>\n",
       "      <td>51243200.00</td>\n",
       "      <td>394.59</td>\n",
       "      <td>405.57</td>\n",
       "      <td>50.60</td>\n",
       "      <td>404.55</td>\n",
       "      <td>387.25</td>\n",
       "      <td>369.96</td>\n",
       "    </tr>\n",
       "    <tr>\n",
       "      <th>2022-11-22</th>\n",
       "      <td>400.07</td>\n",
       "      <td>395.15</td>\n",
       "      <td>396.63</td>\n",
       "      <td>399.90</td>\n",
       "      <td>60429000.00</td>\n",
       "      <td>399.90</td>\n",
       "      <td>405.30</td>\n",
       "      <td>71.92</td>\n",
       "      <td>406.67</td>\n",
       "      <td>388.46</td>\n",
       "      <td>370.25</td>\n",
       "    </tr>\n",
       "    <tr>\n",
       "      <th>2022-11-23</th>\n",
       "      <td>402.93</td>\n",
       "      <td>399.31</td>\n",
       "      <td>399.55</td>\n",
       "      <td>402.42</td>\n",
       "      <td>68161400.00</td>\n",
       "      <td>402.42</td>\n",
       "      <td>405.07</td>\n",
       "      <td>93.21</td>\n",
       "      <td>408.95</td>\n",
       "      <td>389.79</td>\n",
       "      <td>370.63</td>\n",
       "    </tr>\n",
       "  </tbody>\n",
       "</table>\n",
       "</div>"
      ],
      "text/plain": [
       "             high    low   open  close      volume  adj_close  sma200   cci  \\\n",
       "date                                                                          \n",
       "2022-11-17 394.95 390.14 390.46 394.24 74496300.00     394.24  406.09 57.02   \n",
       "2022-11-18 397.81 393.04 397.74 396.03 92783500.00     396.03  405.83 67.28   \n",
       "2022-11-21 395.82 392.66 394.64 394.59 51243200.00     394.59  405.57 50.60   \n",
       "2022-11-22 400.07 395.15 396.63 399.90 60429000.00     399.90  405.30 71.92   \n",
       "2022-11-23 402.93 399.31 399.55 402.42 68161400.00     402.42  405.07 93.21   \n",
       "\n",
       "            upper  middle  lower  \n",
       "date                              \n",
       "2022-11-17 402.70  385.47 368.25  \n",
       "2022-11-18 403.68  386.48 369.28  \n",
       "2022-11-21 404.55  387.25 369.96  \n",
       "2022-11-22 406.67  388.46 370.25  \n",
       "2022-11-23 408.95  389.79 370.63  "
      ]
     },
     "execution_count": 31,
     "metadata": {},
     "output_type": "execute_result"
    }
   ],
   "source": [
    "#upper, middle, lower = BBANDS(ts, timeperiod=20, matype=MA_Type.EMA)\n",
    "#(for some reason, the abstract API doesn't work for BBANDS, so use the function API)\n",
    "\n",
    "upper, middle, lower = talib.BBANDS(ts.close, timeperiod=20, matype=MA_Type.EMA)\n",
    "ts['upper'] = upper; ts['middle'] = middle; ts['lower'] = lower\n",
    "ts.tail()"
   ]
  },
  {
   "cell_type": "code",
   "execution_count": null,
   "metadata": {},
   "outputs": [],
   "source": []
  },
  {
   "cell_type": "code",
   "execution_count": null,
   "metadata": {},
   "outputs": [],
   "source": []
  },
  {
   "cell_type": "code",
   "execution_count": null,
   "metadata": {},
   "outputs": [],
   "source": []
  },
  {
   "cell_type": "code",
   "execution_count": null,
   "metadata": {},
   "outputs": [],
   "source": []
  }
 ],
 "metadata": {
  "kernelspec": {
   "display_name": "Python 3 (ipykernel)",
   "language": "python",
   "name": "python3"
  },
  "language_info": {
   "codemirror_mode": {
    "name": "ipython",
    "version": 3
   },
   "file_extension": ".py",
   "mimetype": "text/x-python",
   "name": "python",
   "nbconvert_exporter": "python",
   "pygments_lexer": "ipython3",
   "version": "3.9.12"
  },
  "latex_envs": {
   "LaTeX_envs_menu_present": true,
   "autoclose": false,
   "autocomplete": true,
   "bibliofile": "biblio.bib",
   "cite_by": "apalike",
   "current_citInitial": 1,
   "eqLabelWithNumbers": true,
   "eqNumInitial": 1,
   "hotkeys": {
    "equation": "Ctrl-E",
    "itemize": "Ctrl-I"
   },
   "labels_anchors": false,
   "latex_user_defs": false,
   "report_style_numbering": false,
   "user_envs_cfg": false
  }
 },
 "nbformat": 4,
 "nbformat_minor": 1
}
